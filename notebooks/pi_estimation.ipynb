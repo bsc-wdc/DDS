{
 "cells": [
  {
   "cell_type": "markdown",
   "id": "96f101f1",
   "metadata": {},
   "source": [
    "# Pi Estimation"
   ]
  },
  {
   "cell_type": "code",
   "execution_count": null,
   "id": "c84f82d3",
   "metadata": {},
   "outputs": [],
   "source": [
    "import pycompss.interactive as ipycompss"
   ]
  },
  {
   "cell_type": "code",
   "execution_count": null,
   "id": "1b24f96c",
   "metadata": {},
   "outputs": [],
   "source": [
    "ipycompss.start(graph=True)"
   ]
  },
  {
   "cell_type": "code",
   "execution_count": null,
   "id": "60f7289b",
   "metadata": {},
   "outputs": [],
   "source": [
    "from dds import DDS"
   ]
  },
  {
   "cell_type": "code",
   "execution_count": null,
   "id": "33bc662a",
   "metadata": {},
   "outputs": [],
   "source": [
    "def inside(_):\n",
    "    \"\"\"Check if inside.\n",
    "\n",
    "    :return: If inside.\n",
    "    \"\"\"\n",
    "    import random\n",
    "    rand_x = random.random()\n",
    "    rand_y = random.random()\n",
    "    return (rand_x * rand_x) + (rand_y * rand_y) < 1\n"
   ]
  },
  {
   "cell_type": "code",
   "execution_count": null,
   "id": "1fde4aa4",
   "metadata": {},
   "outputs": [],
   "source": [
    "import time\n",
    "\n",
    "def pi_estimation():\n",
    "    \"\"\"Pi estimation.\n",
    "\n",
    "    Example is taken from: https://spark.apache.org/examples.html\n",
    "\n",
    "    :return: If the pi value calculated is between 3.1 and 3.2.\n",
    "    \"\"\"\n",
    "    start = time.time()\n",
    "\n",
    "    print(\"--- PI ESTIMATION ---\")\n",
    "\n",
    "    print(\"- Estimating Pi by 'throwing darts' algorithm.\")\n",
    "    tries = 100000\n",
    "    print(f\"- Number of tries: {tries}\")\n",
    "\n",
    "    count = DDS().load(range(0, tries), 10).filter(inside).count()\n",
    "    rough_pi = 4.0 * count / tries\n",
    "\n",
    "    print(f\"- Pi is roughly {rough_pi}\")\n",
    "    print(\"- Elapsed Time: \", time.time() - start)\n",
    "    print(\"---------------------\")\n",
    "\n",
    "    return 3.1 < rough_pi < 3.2"
   ]
  },
  {
   "cell_type": "code",
   "execution_count": null,
   "id": "35fa3b2f",
   "metadata": {},
   "outputs": [],
   "source": [
    "pi_estimation()"
   ]
  },
  {
   "cell_type": "code",
   "execution_count": null,
   "id": "1ca3e25a",
   "metadata": {},
   "outputs": [],
   "source": [
    "ipycompss.stop()"
   ]
  }
 ],
 "metadata": {
  "kernelspec": {
   "display_name": "Python 3 (ipykernel)",
   "language": "python",
   "name": "python3"
  },
  "language_info": {
   "codemirror_mode": {
    "name": "ipython",
    "version": 3
   },
   "file_extension": ".py",
   "mimetype": "text/x-python",
   "name": "python",
   "nbconvert_exporter": "python",
   "pygments_lexer": "ipython3",
   "version": "3.10.12"
  },
  "varInspector": {
   "cols": {
    "lenName": 16,
    "lenType": 16,
    "lenVar": 40
   },
   "kernels_config": {
    "python": {
     "delete_cmd_postfix": "",
     "delete_cmd_prefix": "del ",
     "library": "var_list.py",
     "varRefreshCmd": "print(var_dic_list())"
    },
    "r": {
     "delete_cmd_postfix": ") ",
     "delete_cmd_prefix": "rm(",
     "library": "var_list.r",
     "varRefreshCmd": "cat(var_dic_list()) "
    }
   },
   "types_to_exclude": [
    "module",
    "function",
    "builtin_function_or_method",
    "instance",
    "_Feature"
   ],
   "window_display": false
  }
 },
 "nbformat": 4,
 "nbformat_minor": 5
}
