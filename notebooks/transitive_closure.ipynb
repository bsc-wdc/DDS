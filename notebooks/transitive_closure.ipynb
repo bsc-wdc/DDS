{
 "cells": [
  {
   "cell_type": "markdown",
   "id": "96f101f1",
   "metadata": {},
   "source": [
    "# Transitive Closure"
   ]
  },
  {
   "cell_type": "code",
   "execution_count": null,
   "id": "c84f82d3",
   "metadata": {},
   "outputs": [],
   "source": [
    "import pycompss.interactive as ipycompss"
   ]
  },
  {
   "cell_type": "code",
   "execution_count": null,
   "id": "1b24f96c",
   "metadata": {},
   "outputs": [],
   "source": [
    "ipycompss.start(graph=True)"
   ]
  },
  {
   "cell_type": "code",
   "execution_count": null,
   "id": "60f7289b",
   "metadata": {},
   "outputs": [],
   "source": [
    "from dds import DDS"
   ]
  },
  {
   "cell_type": "code",
   "execution_count": null,
   "id": "0b2424f0",
   "metadata": {},
   "outputs": [],
   "source": [
    "import time\n",
    "import random"
   ]
  },
  {
   "cell_type": "code",
   "execution_count": null,
   "id": "14bc654b",
   "metadata": {},
   "outputs": [],
   "source": [
    "def _generate_graph():\n",
    "    \"\"\"Generate graph.\n",
    "\n",
    "    :return: Set of edges.\n",
    "    \"\"\"\n",
    "    random.seed(1)\n",
    "    num_edges = 10\n",
    "    num_vertices = 5\n",
    "    rand = random.Random(42)\n",
    "\n",
    "    edges = set()\n",
    "    while len(edges) < num_edges:\n",
    "        src = rand.randrange(0, num_vertices)\n",
    "        dst = rand.randrange(0, num_vertices)\n",
    "        if src != dst:\n",
    "            edges.add((src, dst))\n",
    "    return edges"
   ]
  },
  {
   "cell_type": "code",
   "execution_count": null,
   "id": "e21bb5a0",
   "metadata": {},
   "outputs": [],
   "source": [
    "def transitive_closure(partitions=2):\n",
    "    \"\"\"Transitive closure.\n",
    "\n",
    "    :param partitions: Number of partitions.\n",
    "    :results: Transitive closure result.\n",
    "    \"\"\"\n",
    "    print(\"--- TRANSITIVE CLOSURE ---\")\n",
    "\n",
    "    edges = _generate_graph()\n",
    "    start_time = time.time()\n",
    "\n",
    "    o_d = DDS().load(edges, partitions).collect(future_objects=True)\n",
    "\n",
    "    # Because join() joins on keys, the edges are stored in reversed order.\n",
    "    edges = DDS().load(o_d, -1).map(lambda x_y: (x_y[1], x_y[0]))\n",
    "\n",
    "    next_count = DDS().load(o_d, -1).count()\n",
    "\n",
    "    while True:\n",
    "        old_count = next_count\n",
    "        # Perform the join, obtaining an RDD of (y, (z, x)) pairs,\n",
    "        # then project the result to obtain the new (x, z) paths.\n",
    "        new_edges = (\n",
    "            DDS()\n",
    "            .load(o_d, -1)\n",
    "            .join(edges)\n",
    "            .map(lambda __a_b: (__a_b[1][1], __a_b[1][0]))\n",
    "        )\n",
    "        o_d = (\n",
    "            DDS()\n",
    "            .load(o_d, -1)\n",
    "            .union(new_edges)\n",
    "            .distinct()\n",
    "            .collect(future_objects=True)\n",
    "        )\n",
    "\n",
    "        next_count = DDS().load(o_d, -1).count()\n",
    "\n",
    "        if next_count == old_count:\n",
    "            break\n",
    "\n",
    "    print(f\"- TC has {next_count} edges\")\n",
    "    print(f\"- Elapsed Time: {time.time() - start_time} (s)\")\n",
    "    print(\"--------------------------\")\n",
    "\n",
    "    return next_count == 20"
   ]
  },
  {
   "cell_type": "code",
   "execution_count": null,
   "id": "2992a9e5",
   "metadata": {},
   "outputs": [],
   "source": [
    "transitive_closure()"
   ]
  },
  {
   "cell_type": "code",
   "execution_count": null,
   "id": "1ca3e25a",
   "metadata": {},
   "outputs": [],
   "source": [
    "ipycompss.stop()"
   ]
  }
 ],
 "metadata": {
  "kernelspec": {
   "display_name": "Python 3 (ipykernel)",
   "language": "python",
   "name": "python3"
  },
  "language_info": {
   "codemirror_mode": {
    "name": "ipython",
    "version": 3
   },
   "file_extension": ".py",
   "mimetype": "text/x-python",
   "name": "python",
   "nbconvert_exporter": "python",
   "pygments_lexer": "ipython3",
   "version": "3.10.12"
  },
  "varInspector": {
   "cols": {
    "lenName": 16,
    "lenType": 16,
    "lenVar": 40
   },
   "kernels_config": {
    "python": {
     "delete_cmd_postfix": "",
     "delete_cmd_prefix": "del ",
     "library": "var_list.py",
     "varRefreshCmd": "print(var_dic_list())"
    },
    "r": {
     "delete_cmd_postfix": ") ",
     "delete_cmd_prefix": "rm(",
     "library": "var_list.r",
     "varRefreshCmd": "cat(var_dic_list()) "
    }
   },
   "types_to_exclude": [
    "module",
    "function",
    "builtin_function_or_method",
    "instance",
    "_Feature"
   ],
   "window_display": false
  }
 },
 "nbformat": 4,
 "nbformat_minor": 5
}
