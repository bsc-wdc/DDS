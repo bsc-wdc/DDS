{
 "cells": [
  {
   "cell_type": "markdown",
   "id": "96f101f1",
   "metadata": {},
   "source": [
    "# Inverted Indexing"
   ]
  },
  {
   "cell_type": "code",
   "execution_count": null,
   "id": "c84f82d3",
   "metadata": {},
   "outputs": [],
   "source": [
    "import pycompss.interactive as ipycompss"
   ]
  },
  {
   "cell_type": "code",
   "execution_count": null,
   "id": "1b24f96c",
   "metadata": {},
   "outputs": [],
   "source": [
    "ipycompss.start(graph=True)"
   ]
  },
  {
   "cell_type": "code",
   "execution_count": null,
   "id": "60f7289b",
   "metadata": {},
   "outputs": [],
   "source": [
    "from dds import DDS"
   ]
  },
  {
   "cell_type": "code",
   "execution_count": null,
   "id": "cee39f68",
   "metadata": {},
   "outputs": [],
   "source": [
    "import os\n",
    "import random\n",
    "import shutil\n",
    "import time\n",
    "from collections import defaultdict"
   ]
  },
  {
   "cell_type": "code",
   "execution_count": null,
   "id": "9bc16d2b",
   "metadata": {},
   "outputs": [],
   "source": [
    "def create_dataset() -> (str, str):\n",
    "    \"\"\"Create a dummy dataset.\n",
    "\n",
    "    :return: Path to a folder containing a set of dummy files and the expected.\n",
    "    \"\"\"\n",
    "    random.seed(1)\n",
    "    vocabulary = [\n",
    "        \"PyCOMPSs\",\n",
    "        \"Hello\",\n",
    "        \"World\",\n",
    "        \"Lorem\",\n",
    "        \"Ipsum\",\n",
    "        \"Barcelona\",\n",
    "        \"Supercomputing\",\n",
    "        \"Center\",\n",
    "    ]\n",
    "    current_directory = os.getcwd()\n",
    "    dataset_path = os.path.join(current_directory, \"inverted_indexing_dataset\")\n",
    "    if not os.path.exists(dataset_path):\n",
    "        os.makedirs(dataset_path)\n",
    "    files = []\n",
    "    for i in range(4):\n",
    "        files.append(os.path.join(dataset_path, f\"file_{i}.txt\"))\n",
    "    pairs = defaultdict(list)\n",
    "\n",
    "    for word in vocabulary:\n",
    "        _files = random.sample(files, 2)\n",
    "        for _file in _files:\n",
    "            with open(_file, \"a\") as tmp_f:\n",
    "                tmp_f.write(word + \" \")\n",
    "            pairs[word].append(_file)\n",
    "\n",
    "    return dataset_path, pairs"
   ]
  },
  {
   "cell_type": "code",
   "execution_count": null,
   "id": "32601f54",
   "metadata": {},
   "outputs": [],
   "source": [
    "def clean_dataset(dataset_path):\n",
    "    \"\"\"Remove the given dataset.\n",
    "\n",
    "    :param dataset_path: Folder to be removed.\n",
    "    :return: None.\n",
    "    \"\"\"\n",
    "    shutil.rmtree(dataset_path)"
   ]
  },
  {
   "cell_type": "code",
   "execution_count": null,
   "id": "528b5900",
   "metadata": {},
   "outputs": [],
   "source": [
    "def _invert_files(pair):\n",
    "    \"\"\"Invert files.\n",
    "\n",
    "    :param pair: Pair.\n",
    "    :results: List of items.\n",
    "    \"\"\"\n",
    "    res = {}\n",
    "    for word in pair[1].split():\n",
    "        res[word] = [pair[0]]\n",
    "    return list(res.items())"
   ]
  },
  {
   "cell_type": "code",
   "execution_count": null,
   "id": "e8a44678",
   "metadata": {},
   "outputs": [],
   "source": [
    "def inverted_indexing():\n",
    "    \"\"\"Inverted indexing.\n",
    "\n",
    "    :results: Inverted indexing result.\n",
    "    \"\"\"\n",
    "    print(\"--- INVERTED INDEXING ---\")\n",
    "\n",
    "    # By default, create a dummy dataset and perform wordcount over it.\n",
    "    # It could be changed to:\n",
    "    #   path_file = sys.argv[1]\n",
    "    # if you desire to perform the word count over a given dataset\n",
    "    # (remember to comment the check_results call in this case).\n",
    "    dataset_path, pairs = create_dataset()\n",
    "    start_time = time.time()\n",
    "\n",
    "    results = (\n",
    "        DDS()\n",
    "        .load_files_from_dir(dataset_path)\n",
    "        .flat_map(_invert_files)\n",
    "        .reduce_by_key(lambda a, b: a + b)\n",
    "        .collect()\n",
    "    )\n",
    "\n",
    "    print(f\"- Results: {results[-1:]}\")\n",
    "    print(f\"- Elapsed Time: {time.time() - start_time} (s)\")\n",
    "    print(\"-------------------------\")\n",
    "\n",
    "    clean_dataset(dataset_path)\n",
    "\n",
    "    check = []\n",
    "    for word, files in results:\n",
    "        check.append(set(pairs[word]).issubset(set(files)))\n",
    "    return all(test for test in check)"
   ]
  },
  {
   "cell_type": "code",
   "execution_count": null,
   "id": "2992a9e5",
   "metadata": {},
   "outputs": [],
   "source": [
    "inverted_indexing()"
   ]
  },
  {
   "cell_type": "code",
   "execution_count": null,
   "id": "1ca3e25a",
   "metadata": {},
   "outputs": [],
   "source": [
    "ipycompss.stop()"
   ]
  }
 ],
 "metadata": {
  "kernelspec": {
   "display_name": "Python 3 (ipykernel)",
   "language": "python",
   "name": "python3"
  },
  "language_info": {
   "codemirror_mode": {
    "name": "ipython",
    "version": 3
   },
   "file_extension": ".py",
   "mimetype": "text/x-python",
   "name": "python",
   "nbconvert_exporter": "python",
   "pygments_lexer": "ipython3",
   "version": "3.10.12"
  },
  "varInspector": {
   "cols": {
    "lenName": 16,
    "lenType": 16,
    "lenVar": 40
   },
   "kernels_config": {
    "python": {
     "delete_cmd_postfix": "",
     "delete_cmd_prefix": "del ",
     "library": "var_list.py",
     "varRefreshCmd": "print(var_dic_list())"
    },
    "r": {
     "delete_cmd_postfix": ") ",
     "delete_cmd_prefix": "rm(",
     "library": "var_list.r",
     "varRefreshCmd": "cat(var_dic_list()) "
    }
   },
   "types_to_exclude": [
    "module",
    "function",
    "builtin_function_or_method",
    "instance",
    "_Feature"
   ],
   "window_display": false
  }
 },
 "nbformat": 4,
 "nbformat_minor": 5
}
