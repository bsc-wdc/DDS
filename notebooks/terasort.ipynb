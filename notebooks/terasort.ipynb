{
 "cells": [
  {
   "cell_type": "markdown",
   "id": "96f101f1",
   "metadata": {},
   "source": [
    "# Terasort"
   ]
  },
  {
   "cell_type": "code",
   "execution_count": null,
   "id": "c84f82d3",
   "metadata": {},
   "outputs": [],
   "source": [
    "import pycompss.interactive as ipycompss"
   ]
  },
  {
   "cell_type": "code",
   "execution_count": null,
   "id": "1b24f96c",
   "metadata": {},
   "outputs": [],
   "source": [
    "ipycompss.start(graph=True)"
   ]
  },
  {
   "cell_type": "code",
   "execution_count": null,
   "id": "60f7289b",
   "metadata": {},
   "outputs": [],
   "source": [
    "from dds import DDS"
   ]
  },
  {
   "cell_type": "code",
   "execution_count": null,
   "id": "3ec3af40",
   "metadata": {},
   "outputs": [],
   "source": [
    "import os\n",
    "import shutil\n",
    "import random\n",
    "import time"
   ]
  },
  {
   "cell_type": "code",
   "execution_count": null,
   "id": "830950c5",
   "metadata": {},
   "outputs": [],
   "source": [
    "def create_dataset() -> (str, str):\n",
    "    \"\"\"Create a dummy dataset.\n",
    "\n",
    "    :return: Path to a folder containing a set of dummy files and result path.\n",
    "    \"\"\"\n",
    "    random.seed(1)\n",
    "    current_directory = os.getcwd()\n",
    "    dataset_path = os.path.join(current_directory, \"terasort_dataset\")\n",
    "    dataset_dest_path = os.path.join(\n",
    "        current_directory, \"terasort_dataset_result\"\n",
    "    )\n",
    "    if not os.path.exists(dataset_path):\n",
    "        os.makedirs(dataset_path)\n",
    "    for i in range(4):\n",
    "        file_path = os.path.join(dataset_path, f\"file_{i}.txt\")\n",
    "        with open(file_path, \"w\", encoding=\"utf-8\") as file_path_fd:\n",
    "            for j in range(10):\n",
    "                file_path_fd.write(f\"{random.randint(0, 1000)},{i*j}\\n\")\n",
    "    # if not os.path.exists(dataset_dest_path):\n",
    "    #     os.makedirs(dataset_dest_path)\n",
    "    return dataset_path, dataset_dest_path"
   ]
  },
  {
   "cell_type": "code",
   "execution_count": null,
   "id": "3e725b88",
   "metadata": {},
   "outputs": [],
   "source": [
    "def check_results(results) -> bool:\n",
    "    \"\"\"Check if the given results match the expected result.\n",
    "\n",
    "    CAUTION: Only works for the dummy dataset.\n",
    "\n",
    "    :param results: Dictionary containing the words and their appearance.\n",
    "    :return: If the result is the expected or not.\n",
    "    \"\"\"\n",
    "    expected = [\n",
    "        (\"104\", \"15\"),\n",
    "        (\"120\", \"0\"),\n",
    "        (\"137\", \"0\"),\n",
    "        (\"2\", \"12\"),\n",
    "        (\"214\", \"5\"),\n",
    "        (\"22\", \"27\"),\n",
    "        (\"234\", \"6\"),\n",
    "        (\"261\", \"0\"),\n",
    "        (\"272\", \"18\"),\n",
    "        (\"29\", \"8\"),\n",
    "        (\"31\", \"24\"),\n",
    "        (\"325\", \"21\"),\n",
    "        (\"388\", \"3\"),\n",
    "        (\"399\", \"2\"),\n",
    "        (\"443\", \"4\"),\n",
    "        (\"456\", \"16\"),\n",
    "        (\"460\", \"0\"),\n",
    "        (\"483\", \"1\"),\n",
    "        (\"499\", \"7\"),\n",
    "        (\"507\", \"0\"),\n",
    "        (\"582\", \"0\"),\n",
    "        (\"605\", \"9\"),\n",
    "        (\"622\", \"6\"),\n",
    "        (\"64\", \"0\"),\n",
    "        (\"667\", \"2\"),\n",
    "        (\"712\", \"14\"),\n",
    "        (\"738\", \"0\"),\n",
    "        (\"779\", \"0\"),\n",
    "        (\"780\", \"8\"),\n",
    "        (\"782\", \"0\"),\n",
    "        (\"785\", \"10\"),\n",
    "        (\"807\", \"4\"),\n",
    "        (\"821\", \"0\"),\n",
    "        (\"821\", \"3\"),\n",
    "        (\"855\", \"0\"),\n",
    "        (\"867\", \"0\"),\n",
    "        (\"914\", \"9\"),\n",
    "        (\"923\", \"18\"),\n",
    "        (\"96\", \"6\"),\n",
    "        (\"967\", \"12\"),\n",
    "    ]\n",
    "\n",
    "    return results == expected"
   ]
  },
  {
   "cell_type": "code",
   "execution_count": null,
   "id": "53bc9035",
   "metadata": {},
   "outputs": [],
   "source": [
    "def clean_dataset(dataset_path):\n",
    "    \"\"\"Remove the given dataset.\n",
    "\n",
    "    :param dataset_path: Folder to be removed.\n",
    "    :return: None.\n",
    "    \"\"\"\n",
    "    shutil.rmtree(dataset_path)"
   ]
  },
  {
   "cell_type": "code",
   "execution_count": null,
   "id": "edc2a8f1",
   "metadata": {},
   "outputs": [],
   "source": [
    "def files_to_pairs(element):\n",
    "    \"\"\"Pair files.\n",
    "\n",
    "    :param element: String of elements.\n",
    "    :return: List of pairs.\n",
    "    \"\"\"\n",
    "    tuples = []\n",
    "    lines = element[1].split(\"\\n\")\n",
    "    for _l in lines:\n",
    "        if not _l:\n",
    "            continue\n",
    "        k_v = _l.split(\",\")\n",
    "        tuples.append(tuple(k_v))\n",
    "\n",
    "    return tuples"
   ]
  },
  {
   "cell_type": "code",
   "execution_count": null,
   "id": "94fa3083",
   "metadata": {},
   "outputs": [],
   "source": [
    "def terasort():\n",
    "    \"\"\"Apply terasort over a dummy dataset.\n",
    "\n",
    "    :return: Sorting result.\n",
    "    \"\"\"\n",
    "    print(\"--- TERASORT ---\")\n",
    "\n",
    "    # By default, create a dummy dataset and perform wordcount over it.\n",
    "    # It could be changed to:\n",
    "    #   dir_path = sys.argv[1]\n",
    "    #   dest_path = sys.argv[2]\n",
    "    # if you desire to perform the word count over a given dataset\n",
    "    # (remember to comment the check_results call in this case).\n",
    "    dir_path, _ = create_dataset()\n",
    "\n",
    "    start_time = time.time()\n",
    "\n",
    "    results = (\n",
    "        DDS()\n",
    "        .load_files_from_dir(dir_path)\n",
    "        .flat_map(files_to_pairs)\n",
    "        .sort_by_key()\n",
    "        # .save_as_text_file(dest_path)\n",
    "        .collect()\n",
    "    )\n",
    "\n",
    "    print(f\"- Results: {results}\")\n",
    "    print(f\"- Elapsed Time: {time.time() - start_time} (s)\")\n",
    "    print(\"----------------\")\n",
    "\n",
    "    clean_dataset(dir_path)\n",
    "\n",
    "    return check_results(results)"
   ]
  },
  {
   "cell_type": "code",
   "execution_count": null,
   "id": "2992a9e5",
   "metadata": {},
   "outputs": [],
   "source": [
    "terasort()"
   ]
  },
  {
   "cell_type": "code",
   "execution_count": null,
   "id": "1ca3e25a",
   "metadata": {},
   "outputs": [],
   "source": [
    "ipycompss.stop()"
   ]
  }
 ],
 "metadata": {
  "kernelspec": {
   "display_name": "Python 3 (ipykernel)",
   "language": "python",
   "name": "python3"
  },
  "language_info": {
   "codemirror_mode": {
    "name": "ipython",
    "version": 3
   },
   "file_extension": ".py",
   "mimetype": "text/x-python",
   "name": "python",
   "nbconvert_exporter": "python",
   "pygments_lexer": "ipython3",
   "version": "3.10.12"
  },
  "varInspector": {
   "cols": {
    "lenName": 16,
    "lenType": 16,
    "lenVar": 40
   },
   "kernels_config": {
    "python": {
     "delete_cmd_postfix": "",
     "delete_cmd_prefix": "del ",
     "library": "var_list.py",
     "varRefreshCmd": "print(var_dic_list())"
    },
    "r": {
     "delete_cmd_postfix": ") ",
     "delete_cmd_prefix": "rm(",
     "library": "var_list.r",
     "varRefreshCmd": "cat(var_dic_list()) "
    }
   },
   "types_to_exclude": [
    "module",
    "function",
    "builtin_function_or_method",
    "instance",
    "_Feature"
   ],
   "window_display": false
  }
 },
 "nbformat": 4,
 "nbformat_minor": 5
}
